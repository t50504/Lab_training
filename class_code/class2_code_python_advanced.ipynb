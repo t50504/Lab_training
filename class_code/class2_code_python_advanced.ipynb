{
 "cells": [
  {
   "cell_type": "code",
   "execution_count": 16,
   "metadata": {},
   "outputs": [],
   "source": [
    "## tuple 元組\n",
    "\n",
    "## 基本賦值\n",
    "tp1 = 10,20,30\n",
    "tp2 = (2,3,5)\n",
    "tp3 = 'he','is','good'"
   ]
  },
  {
   "cell_type": "code",
   "execution_count": 14,
   "metadata": {},
   "outputs": [
    {
     "name": "stdout",
     "output_type": "stream",
     "text": [
      "tp1's data type=<class 'tuple'>, tp1=(10, 20, 30)\n",
      "tp2's data type=<class 'tuple'>, tp2=(2, 3, 5)\n"
     ]
    }
   ],
   "source": [
    "print(\"tp1's data type={}, tp1={}\".format(type(tp1), tp1))\n",
    "print(\"tp2's data type={}, tp2={}\".format(type(tp2), tp2))"
   ]
  },
  {
   "cell_type": "code",
   "execution_count": 19,
   "metadata": {},
   "outputs": [
    {
     "name": "stdout",
     "output_type": "stream",
     "text": [
      "heisgood\n",
      "he\n",
      "is\n",
      "good\n"
     ]
    }
   ],
   "source": [
    "## 取值\n",
    "print( tp3[0]+tp3[1]+tp3[2] )\n",
    "\n",
    "for i in range(len(tp3)):\n",
    "    print(tp3[i])"
   ]
  },
  {
   "cell_type": "code",
   "execution_count": 22,
   "metadata": {},
   "outputs": [
    {
     "name": "stdout",
     "output_type": "stream",
     "text": [
      "he\n",
      "is\n",
      "good\n"
     ]
    }
   ],
   "source": [
    "## 遍歷\n",
    "for ele in tp3:\n",
    "    print(ele)\n"
   ]
  },
  {
   "cell_type": "code",
   "execution_count": 23,
   "metadata": {},
   "outputs": [
    {
     "name": "stdout",
     "output_type": "stream",
     "text": [
      "he is good\n"
     ]
    }
   ],
   "source": [
    "## unpacking\n",
    "\n",
    "v1,v2,v3 = tp3\n",
    "print(v1,v2,v3)"
   ]
  },
  {
   "cell_type": "code",
   "execution_count": 25,
   "metadata": {},
   "outputs": [
    {
     "name": "stdout",
     "output_type": "stream",
     "text": [
      "1 2\n",
      "----\n",
      "2 1\n"
     ]
    }
   ],
   "source": [
    "## swap\n",
    "a,b=1,2\n",
    "print(a,b)\n",
    "print('----')\n",
    "\n",
    "a,b = b,a\n",
    "print(a,b)"
   ]
  },
  {
   "cell_type": "code",
   "execution_count": 26,
   "metadata": {},
   "outputs": [
    {
     "ename": "TypeError",
     "evalue": "'tuple' object does not support item assignment",
     "output_type": "error",
     "traceback": [
      "\u001b[1;31m---------------------------------------------------------------------------\u001b[0m",
      "\u001b[1;31mTypeError\u001b[0m                                 Traceback (most recent call last)",
      "\u001b[1;32m<ipython-input-26-0c9546709969>\u001b[0m in \u001b[0;36m<module>\u001b[1;34m\u001b[0m\n\u001b[1;32m----> 1\u001b[1;33m \u001b[0mtp1\u001b[0m\u001b[1;33m[\u001b[0m\u001b[1;36m0\u001b[0m\u001b[1;33m]\u001b[0m \u001b[1;33m=\u001b[0m \u001b[1;36m5\u001b[0m\u001b[1;33m\u001b[0m\u001b[1;33m\u001b[0m\u001b[0m\n\u001b[0m",
      "\u001b[1;31mTypeError\u001b[0m: 'tuple' object does not support item assignment"
     ]
    }
   ],
   "source": [
    "tp1[0] = 5"
   ]
  },
  {
   "cell_type": "code",
   "execution_count": 32,
   "metadata": {},
   "outputs": [
    {
     "name": "stdout",
     "output_type": "stream",
     "text": [
      "<class 'list'>\n",
      "1\n",
      "3\n"
     ]
    }
   ],
   "source": [
    "## list列表\n",
    "\n",
    "list1 = [1,2,5]\n",
    "print(type(list1))\n",
    "print(list1[0])\n",
    "print(list1[0]+list1[1])"
   ]
  },
  {
   "cell_type": "code",
   "execution_count": 33,
   "metadata": {},
   "outputs": [
    {
     "name": "stdout",
     "output_type": "stream",
     "text": [
      "[4, 2, 5]\n"
     ]
    }
   ],
   "source": [
    "list1[0] = 4\n",
    "print(list1)"
   ]
  },
  {
   "cell_type": "code",
   "execution_count": 39,
   "metadata": {},
   "outputs": [
    {
     "name": "stdout",
     "output_type": "stream",
     "text": [
      "[4, 2]\n",
      "[4, 2]\n",
      "[4, 2, 5]\n",
      "[4, 2]\n",
      "5\n"
     ]
    }
   ],
   "source": [
    "print(list1[0:2])\n",
    "print(list1[:2])\n",
    "print(list1[:])\n",
    "print(list1[:-1])\n",
    "print(list1[-1])"
   ]
  },
  {
   "cell_type": "code",
   "execution_count": 34,
   "metadata": {},
   "outputs": [
    {
     "ename": "TypeError",
     "evalue": "'type' object is not subscriptable",
     "output_type": "error",
     "traceback": [
      "\u001b[1;31m---------------------------------------------------------------------------\u001b[0m",
      "\u001b[1;31mTypeError\u001b[0m                                 Traceback (most recent call last)",
      "\u001b[1;32m<ipython-input-34-c6854c5a8218>\u001b[0m in \u001b[0;36m<module>\u001b[1;34m\u001b[0m\n\u001b[0;32m      1\u001b[0m \u001b[0mlist2\u001b[0m \u001b[1;33m=\u001b[0m \u001b[1;33m[\u001b[0m\u001b[1;34m'1'\u001b[0m\u001b[1;33m,\u001b[0m\u001b[1;34m'he'\u001b[0m\u001b[1;33m,\u001b[0m\u001b[1;36m2\u001b[0m\u001b[1;33m]\u001b[0m\u001b[1;33m\u001b[0m\u001b[1;33m\u001b[0m\u001b[0m\n\u001b[1;32m----> 2\u001b[1;33m \u001b[0mprint\u001b[0m\u001b[1;33m(\u001b[0m\u001b[0mlist2\u001b[0m\u001b[1;33m[\u001b[0m\u001b[1;36m0\u001b[0m\u001b[1;33m]\u001b[0m\u001b[1;33m+\u001b[0m\u001b[0mlist\u001b[0m\u001b[1;33m[\u001b[0m\u001b[1;36m2\u001b[0m\u001b[1;33m]\u001b[0m\u001b[1;33m)\u001b[0m\u001b[1;33m\u001b[0m\u001b[1;33m\u001b[0m\u001b[0m\n\u001b[0m",
      "\u001b[1;31mTypeError\u001b[0m: 'type' object is not subscriptable"
     ]
    }
   ],
   "source": [
    "list2 = ['1','he',2]\n",
    "print(list2[0]+list[2])"
   ]
  },
  {
   "cell_type": "code",
   "execution_count": 35,
   "metadata": {},
   "outputs": [
    {
     "data": {
      "text/plain": [
       "1"
      ]
     },
     "execution_count": 35,
     "metadata": {},
     "output_type": "execute_result"
    }
   ],
   "source": [
    "list2.index('he')"
   ]
  },
  {
   "cell_type": "code",
   "execution_count": 56,
   "metadata": {},
   "outputs": [
    {
     "data": {
      "text/plain": [
       "5"
      ]
     },
     "execution_count": 56,
     "metadata": {},
     "output_type": "execute_result"
    }
   ],
   "source": [
    "list3 = [1,2,3,4,4,5,5]\n",
    "list3.index(5)"
   ]
  },
  {
   "cell_type": "code",
   "execution_count": 57,
   "metadata": {},
   "outputs": [
    {
     "name": "stdout",
     "output_type": "stream",
     "text": [
      "[1, 2, 3, 4, 4, 5, 5, 6]\n",
      "[1, 2, 100, 3, 4, 4, 5, 5, 6]\n",
      "[1, 2, 3, 4, 4, 5, 5, 6, 100]\n"
     ]
    }
   ],
   "source": [
    "list3.append(6)\n",
    "print(list3)\n",
    "\n",
    "list3.insert(2,100)\n",
    "print(list3)\n",
    "\n",
    "list3.sort()\n",
    "print(list3)"
   ]
  },
  {
   "cell_type": "code",
   "execution_count": 58,
   "metadata": {},
   "outputs": [
    {
     "name": "stdout",
     "output_type": "stream",
     "text": [
      "[1, 2, 3, 4, 5, 5, 6, 100]\n",
      "[1, 2, 4, 5, 5, 6, 100]\n",
      "[1, 2, 4, 5, 6, 100]\n",
      "[1, 2, 4, 5, 6]\n"
     ]
    }
   ],
   "source": [
    "\n",
    "list3.remove(4)\n",
    "print(list3)\n",
    "\n",
    "del list3[2]\n",
    "print(list3)\n",
    "\n",
    "list3.pop(4)\n",
    "print(list3)\n",
    "\n",
    "list3.pop()\n",
    "print(list3)"
   ]
  },
  {
   "cell_type": "code",
   "execution_count": 60,
   "metadata": {},
   "outputs": [
    {
     "name": "stdout",
     "output_type": "stream",
     "text": [
      "['hello', 'myfriend', 'how', 'are', 'you']\n"
     ]
    }
   ],
   "source": [
    "string1 = 'hello\\nmyfriend\\nhow\\nare\\nyou'\n",
    "list_s = string1.split('\\n')\n",
    "print(list_s)"
   ]
  },
  {
   "cell_type": "code",
   "execution_count": 75,
   "metadata": {},
   "outputs": [
    {
     "name": "stdout",
     "output_type": "stream",
     "text": [
      "[1, 2, 4, 5, 6, 8]\n",
      "[0, 0, 0, 0, 0]\n"
     ]
    }
   ],
   "source": [
    "## list拼接；重複創建\n",
    "a = [1,2,4]\n",
    "b = [5,6,8]\n",
    "print(a+b)\n",
    "c = [0] * 5\n",
    "print(c)"
   ]
  },
  {
   "cell_type": "code",
   "execution_count": 76,
   "metadata": {},
   "outputs": [
    {
     "data": {
      "text/plain": [
       "'value1'"
      ]
     },
     "execution_count": 76,
     "metadata": {},
     "output_type": "execute_result"
    }
   ],
   "source": [
    "## dictionary 字典\n",
    "dic1 = {'key1':'value1'}\n",
    "dic1['key1']"
   ]
  },
  {
   "cell_type": "code",
   "execution_count": 78,
   "metadata": {},
   "outputs": [
    {
     "name": "stdout",
     "output_type": "stream",
     "text": [
      "{'key1': 'value1', 'key2': 'value2'}\n"
     ]
    }
   ],
   "source": [
    "dic1['key2'] = 'value2'\n",
    "print(dic1)"
   ]
  },
  {
   "cell_type": "code",
   "execution_count": 79,
   "metadata": {},
   "outputs": [
    {
     "name": "stdout",
     "output_type": "stream",
     "text": [
      "key1 value1\n",
      "key2 value2\n"
     ]
    }
   ],
   "source": [
    "for k,v in dic1.items():\n",
    "    print(k,v)"
   ]
  },
  {
   "cell_type": "code",
   "execution_count": 80,
   "metadata": {},
   "outputs": [
    {
     "name": "stdout",
     "output_type": "stream",
     "text": [
      "0\n",
      "1\n",
      "2\n",
      "4\n"
     ]
    }
   ],
   "source": [
    "## loop control continue&break&pass\n",
    "for i in range(0,5):\n",
    "    if i == 3:\n",
    "        continue\n",
    "    print(i)"
   ]
  },
  {
   "cell_type": "code",
   "execution_count": 81,
   "metadata": {},
   "outputs": [
    {
     "name": "stdout",
     "output_type": "stream",
     "text": [
      "0\n",
      "1\n",
      "2\n"
     ]
    }
   ],
   "source": [
    "for i in range(0,5):\n",
    "    if i == 3:\n",
    "        break\n",
    "    print(i)"
   ]
  },
  {
   "cell_type": "code",
   "execution_count": 82,
   "metadata": {},
   "outputs": [
    {
     "name": "stdout",
     "output_type": "stream",
     "text": [
      "0\n",
      "1\n",
      "2\n",
      "3\n",
      "4\n"
     ]
    }
   ],
   "source": [
    "for i in range(0,5):\n",
    "    if i == 3:\n",
    "        pass\n",
    "    print(i)"
   ]
  },
  {
   "cell_type": "code",
   "execution_count": 83,
   "metadata": {},
   "outputs": [
    {
     "name": "stdout",
     "output_type": "stream",
     "text": [
      "no this variable\n"
     ]
    }
   ],
   "source": [
    "try:\n",
    "    print(dsadas)\n",
    "except:\n",
    "    print('no this variable')"
   ]
  },
  {
   "cell_type": "code",
   "execution_count": 87,
   "metadata": {},
   "outputs": [
    {
     "name": "stdout",
     "output_type": "stream",
     "text": [
      "run time: 4.00116753578186\n"
     ]
    }
   ],
   "source": [
    "## 時間管理大師\n",
    "import time\n",
    "\n",
    "start = time.time()\n",
    "for i in range(0,2):\n",
    "    time.sleep(2)\n",
    "print('run time:',time.time()-start)"
   ]
  },
  {
   "cell_type": "code",
   "execution_count": null,
   "metadata": {},
   "outputs": [],
   "source": []
  },
  {
   "cell_type": "code",
   "execution_count": 90,
   "metadata": {},
   "outputs": [
    {
     "name": "stdout",
     "output_type": "stream",
     "text": [
      "記憶體使用： 51.40234375\n",
      "總記憶體： 32612.625\n"
     ]
    }
   ],
   "source": [
    "#記憶體管理大師\n",
    "import psutil\n",
    "import os\n",
    "info = psutil.virtual_memory()\n",
    "mem = psutil.Process(os.getpid()).memory_info().rss /1024/1024 #初始單位是byte\n",
    "\n",
    "print ('記憶體使用：',mem) #MB\n",
    "print ('總記憶體：',info.total/1024/1024)\n",
    "\n"
   ]
  },
  {
   "cell_type": "code",
   "execution_count": null,
   "metadata": {},
   "outputs": [],
   "source": []
  }
 ],
 "metadata": {
  "kernelspec": {
   "display_name": "Python 3",
   "language": "python",
   "name": "python3"
  },
  "language_info": {
   "codemirror_mode": {
    "name": "ipython",
    "version": 3
   },
   "file_extension": ".py",
   "mimetype": "text/x-python",
   "name": "python",
   "nbconvert_exporter": "python",
   "pygments_lexer": "ipython3",
   "version": "3.7.6"
  }
 },
 "nbformat": 4,
 "nbformat_minor": 4
}
