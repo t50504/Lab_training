{
 "cells": [
  {
   "cell_type": "code",
   "execution_count": 12,
   "metadata": {},
   "outputs": [
    {
     "name": "stdout",
     "output_type": "stream",
     "text": [
      "ABC\n",
      "1\n"
     ]
    }
   ],
   "source": [
    "# print\n",
    "print('ABC') \n",
    "print(1)\n"
   ]
  },
  {
   "cell_type": "code",
   "execution_count": 13,
   "metadata": {},
   "outputs": [
    {
     "name": "stdout",
     "output_type": "stream",
     "text": [
      "3\n",
      "5\n",
      "11\n",
      "5\n",
      "2\n",
      "1\n",
      "25\n"
     ]
    }
   ],
   "source": [
    "# operation\n",
    "print(1+2)\n",
    "print(1*5)\n",
    "print(1+2*5)\n",
    "print(1+2*(1+1))\n",
    "print(5//2)\n",
    "print(5%2)\n",
    "print(5**2)"
   ]
  },
  {
   "cell_type": "code",
   "execution_count": 3,
   "metadata": {},
   "outputs": [
    {
     "name": "stdout",
     "output_type": "stream",
     "text": [
      "hello\n",
      "1 2\n",
      "3\n",
      "a+b=3,hello\n",
      "1+2=3\n"
     ]
    }
   ],
   "source": [
    "# variable\n",
    "\n",
    "a = 1\n",
    "b = 2\n",
    "string_test = 'hello'\n",
    "print(string_test)\n",
    "print(a,b)\n",
    "print(a+b)\n",
    "\n",
    "c = a + b\n",
    "print('a+b={},{}'.format(c,string_test))\n",
    "\n",
    "#print(a+'+'+b+'='+c)\n",
    "print( str(a)+'+'+str(b)+'='+str(c) )"
   ]
  },
  {
   "cell_type": "markdown",
   "metadata": {},
   "source": [
    "## take a break"
   ]
  },
  {
   "cell_type": "code",
   "execution_count": 4,
   "metadata": {},
   "outputs": [
    {
     "name": "stdout",
     "output_type": "stream",
     "text": [
      "0\n",
      "0\n",
      "---\n",
      "1\n",
      "2\n",
      "---\n",
      "2\n",
      "4\n",
      "---\n",
      "3\n",
      "6\n",
      "---\n",
      "4\n",
      "8\n",
      "---\n"
     ]
    }
   ],
   "source": [
    "### for loop\n",
    "for i in range(5):\n",
    "    print(i)\n",
    "    print(i*2)\n",
    "    print('---')"
   ]
  },
  {
   "cell_type": "code",
   "execution_count": 14,
   "metadata": {},
   "outputs": [
    {
     "name": "stdout",
     "output_type": "stream",
     "text": [
      "h\n",
      "e\n",
      "l\n",
      "l\n",
      "o\n"
     ]
    }
   ],
   "source": [
    "string_test = 'hello'\n",
    "length = len(string_test)\n",
    "for i in range(length):\n",
    "    print(string_test[i])"
   ]
  },
  {
   "cell_type": "code",
   "execution_count": 6,
   "metadata": {},
   "outputs": [
    {
     "name": "stdout",
     "output_type": "stream",
     "text": [
      "45\n"
     ]
    }
   ],
   "source": [
    "total = 0\n",
    "for i in range(0, 10):\n",
    "    total += i # total = i + total \n",
    "print(total)"
   ]
  },
  {
   "cell_type": "code",
   "execution_count": 15,
   "metadata": {},
   "outputs": [
    {
     "name": "stdout",
     "output_type": "stream",
     "text": [
      "5\n",
      "check point 1\n",
      "50\n",
      "middle check point\n",
      "99\n",
      "end of loop\n"
     ]
    }
   ],
   "source": [
    "## if else\n",
    "for i in range(100):\n",
    "    if i == 5:\n",
    "        print(i)\n",
    "        print('check point 1')\n",
    "    elif i == 50:\n",
    "        print(i)\n",
    "        print('middle check point')\n",
    "    elif i == 99:\n",
    "        print(i)\n",
    "        print('end of loop')"
   ]
  },
  {
   "cell_type": "code",
   "execution_count": 8,
   "metadata": {},
   "outputs": [
    {
     "name": "stdout",
     "output_type": "stream",
     "text": [
      "0\n",
      "1\n",
      "2\n",
      "3\n",
      "4\n",
      "5\n",
      "6\n",
      "7\n",
      "8\n",
      "9\n",
      "10\n"
     ]
    }
   ],
   "source": [
    "## while\n",
    "threshold = 10\n",
    "count = 0\n",
    "while count <= threshold:\n",
    "    print(count)\n",
    "    count += 1\n",
    "    "
   ]
  },
  {
   "cell_type": "code",
   "execution_count": 16,
   "metadata": {},
   "outputs": [
    {
     "name": "stdout",
     "output_type": "stream",
     "text": [
      "function content\n"
     ]
    }
   ],
   "source": [
    "## function\n",
    "def test():\n",
    "    print('function content')\n",
    "    \n",
    "test()"
   ]
  },
  {
   "cell_type": "code",
   "execution_count": 17,
   "metadata": {},
   "outputs": [
    {
     "name": "stdout",
     "output_type": "stream",
     "text": [
      "3\n"
     ]
    }
   ],
   "source": [
    "def add(a,b):\n",
    "    c = a + b\n",
    "    return c\n",
    "\n",
    "ans = add(a,b)\n",
    "\n",
    "#print(ans)"
   ]
  },
  {
   "cell_type": "code",
   "execution_count": null,
   "metadata": {},
   "outputs": [],
   "source": [
    "## homework\n",
    "def tranlator(score):\n",
    "    if score>...:\n",
    "        return ...\n",
    "    else ...\n",
    "    return None\n",
    "\n",
    "def result(s1,s2,s3,s4):\n",
    "    for i in range(0,4):\n",
    "        print(translator(s1))\n",
    "    return None"
   ]
  },
  {
   "cell_type": "code",
   "execution_count": 46,
   "metadata": {},
   "outputs": [],
   "source": []
  },
  {
   "cell_type": "code",
   "execution_count": 22,
   "metadata": {
    "scrolled": true
   },
   "outputs": [
    {
     "name": "stdout",
     "output_type": "stream",
     "text": [
      "A\n",
      "C\n",
      "B\n",
      "B\n",
      "have invalid score!\n"
     ]
    }
   ],
   "source": [
    "result(90,65,80,70)"
   ]
  },
  {
   "cell_type": "code",
   "execution_count": 19,
   "metadata": {},
   "outputs": [],
   "source": [
    "# sample answer\n",
    "def tranlator(score):\n",
    "    if 100 >= score >= 90:\n",
    "        print('A')\n",
    "        return 1\n",
    "    elif 89 >= score >= 70:\n",
    "        print('B')\n",
    "        return 0\n",
    "    elif 69 >= score >= 50:\n",
    "        print('C')\n",
    "        return 0\n",
    "    else:\n",
    "        print('invalid')\n",
    "        return -5\n",
    "    \n",
    "def result(s1,s2,s3,s4):\n",
    "    r1 = tranlator(s1)\n",
    "    r2 = tranlator(s2)\n",
    "    r3 = tranlator(s3)\n",
    "    r4 = tranlator(s4)\n",
    "    if r1+r2+r3+r4 >= 2:\n",
    "        print('pass!')\n",
    "    else:\n",
    "        print('have invalid score!')"
   ]
  },
  {
   "cell_type": "code",
   "execution_count": null,
   "metadata": {},
   "outputs": [],
   "source": []
  },
  {
   "cell_type": "code",
   "execution_count": null,
   "metadata": {},
   "outputs": [],
   "source": [
    "### chapter B"
   ]
  },
  {
   "cell_type": "code",
   "execution_count": 39,
   "metadata": {},
   "outputs": [],
   "source": [
    "# ***Global and local variable   \n",
    "var1 = 5 # global\n",
    "\n",
    "def test():\n",
    "    var2 = 3 # local\n",
    "    print(var2)\n",
    "    print(var1+var2)\n",
    "    \n",
    "def test2():\n",
    "    var2 = 5\n",
    "    print(var2)"
   ]
  },
  {
   "cell_type": "code",
   "execution_count": 41,
   "metadata": {},
   "outputs": [
    {
     "name": "stdout",
     "output_type": "stream",
     "text": [
      "5\n"
     ]
    }
   ],
   "source": [
    "test2()"
   ]
  },
  {
   "cell_type": "code",
   "execution_count": 35,
   "metadata": {},
   "outputs": [
    {
     "name": "stdout",
     "output_type": "stream",
     "text": [
      "5\n"
     ]
    }
   ],
   "source": [
    "print(var1)"
   ]
  },
  {
   "cell_type": "code",
   "execution_count": 34,
   "metadata": {},
   "outputs": [
    {
     "ename": "NameError",
     "evalue": "name 'var2' is not defined",
     "output_type": "error",
     "traceback": [
      "\u001b[1;31m---------------------------------------------------------------------------\u001b[0m",
      "\u001b[1;31mNameError\u001b[0m                                 Traceback (most recent call last)",
      "\u001b[1;32m<ipython-input-34-28d50f8e6e53>\u001b[0m in \u001b[0;36m<module>\u001b[1;34m\u001b[0m\n\u001b[1;32m----> 1\u001b[1;33m \u001b[0mprint\u001b[0m\u001b[1;33m(\u001b[0m\u001b[0mvar2\u001b[0m\u001b[1;33m)\u001b[0m\u001b[1;33m\u001b[0m\u001b[1;33m\u001b[0m\u001b[0m\n\u001b[0m",
      "\u001b[1;31mNameError\u001b[0m: name 'var2' is not defined"
     ]
    }
   ],
   "source": [
    "print(var2)"
   ]
  },
  {
   "cell_type": "code",
   "execution_count": null,
   "metadata": {},
   "outputs": [],
   "source": [
    "## 最基本處理文件檔"
   ]
  },
  {
   "cell_type": "code",
   "execution_count": 28,
   "metadata": {},
   "outputs": [],
   "source": [
    "# ***read and write basic text file   \n",
    "with open('test.txt','r') as f:\n",
    "    all_con = f.readlines()\n"
   ]
  },
  {
   "cell_type": "code",
   "execution_count": 29,
   "metadata": {},
   "outputs": [
    {
     "data": {
      "text/plain": [
       "['chrI 27148 27567\\n', 'chrIV 768128 768547\\n']"
      ]
     },
     "execution_count": 29,
     "metadata": {},
     "output_type": "execute_result"
    }
   ],
   "source": [
    "all_con"
   ]
  },
  {
   "cell_type": "code",
   "execution_count": 44,
   "metadata": {},
   "outputs": [],
   "source": [
    "file_path = 'test3.txt'\n",
    "\n",
    "with open(file_path, 'w') as fp:\n",
    "    for i in range(0,10):\n",
    "        fp.writelines(str(i)+'\\n')\n",
    "\n"
   ]
  },
  {
   "cell_type": "code",
   "execution_count": null,
   "metadata": {},
   "outputs": [],
   "source": []
  }
 ],
 "metadata": {
  "kernelspec": {
   "display_name": "Python 3",
   "language": "python",
   "name": "python3"
  },
  "language_info": {
   "codemirror_mode": {
    "name": "ipython",
    "version": 3
   },
   "file_extension": ".py",
   "mimetype": "text/x-python",
   "name": "python",
   "nbconvert_exporter": "python",
   "pygments_lexer": "ipython3",
   "version": "3.7.6"
  }
 },
 "nbformat": 4,
 "nbformat_minor": 4
}
